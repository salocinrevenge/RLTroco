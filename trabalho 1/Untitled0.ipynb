{
  "nbformat": 4,
  "nbformat_minor": 0,
  "metadata": {
    "colab": {
      "provenance": []
    },
    "kernelspec": {
      "name": "python3",
      "display_name": "Python 3"
    },
    "language_info": {
      "name": "python"
    }
  },
  "cells": [
    {
      "cell_type": "code",
      "execution_count": 21,
      "metadata": {
        "id": "lftFAb-BqMew"
      },
      "outputs": [],
      "source": [
        "import numpy as np\n",
        "from itertools import product\n",
        "import random"
      ]
    },
    {
      "cell_type": "code",
      "source": [
        "class Jogador():\n",
        "  def __init__(self, tabuleiro, fator_estocastico=0):\n",
        "    self.tabuleiro = tabuleiro\n",
        "    self.x = 8\n",
        "    self.y = 8\n",
        "    self.fator_estocastico = fator_estocastico\n",
        "\n",
        "  def ver(self, direcao):\n",
        "    match direcao:\n",
        "      case \"U\":\n",
        "        return self.tabuleiro[self.y-1, self.x]\n",
        "      case \"D\":\n",
        "        return self.tabuleiro[self.y+1, self.x]\n",
        "      case \"L\":\n",
        "        return self.tabuleiro[self.y, self.x-1]\n",
        "      case \"R\":\n",
        "        return self.tabuleiro[self.y, self.x+1]\n",
        "\n",
        "\n",
        "  def mover(self, direcao):\n",
        "\n",
        "    erro = random.random()\n",
        "\n",
        "    if erro < self.fator_estocastico:\n",
        "      direcao = random.choice(list('UDLR'))\n",
        "\n",
        "    if self.ver(direcao) == '.':\n",
        "      match direcao:\n",
        "        case \"U\":\n",
        "          self.y -= 1\n",
        "        case \"D\":\n",
        "          self.y += 1\n",
        "        case \"L\":\n",
        "          self.x -= 1\n",
        "        case \"R\":\n",
        "          self.x += 1\n",
        "\n",
        "\n",
        "class Labirinto():\n",
        "  def __init__(self):\n",
        "    self.tabuleiro = np.asarray(list(\"##########\"+\n",
        "                              \"#$.......#\"+\n",
        "                              \"#........#\"+\n",
        "                              \"#........#\"+\n",
        "                              \"#........#\"+\n",
        "                              \"#........#\"+\n",
        "                              \"#........#\"+\n",
        "                              \"#........#\"+\n",
        "                              \"#........#\"+\n",
        "                              \"##########\")).reshape((10,10))\n",
        "    self.player = Jogador(self)\n",
        "\n",
        "\n",
        "  def render(self):\n",
        "    display = self.tabuleiro.copy()\n",
        "    display[self.player.y, self.player.x] = '@'\n",
        "\n",
        "    print(display)"
      ],
      "metadata": {
        "colab": {
          "base_uri": "https://localhost:8080/"
        },
        "id": "AlGKK60NqTV4",
        "outputId": "d6167f45-bc5f-49b6-8732-de679f17aeec"
      },
      "execution_count": 26,
      "outputs": [
        {
          "output_type": "stream",
          "name": "stdout",
          "text": [
            "[['#' '#' '#' '#' '#' '#' '#' '#' '#' '#']\n",
            " ['#' '$' '.' '.' '.' '.' '.' '.' '.' '#']\n",
            " ['#' '.' '.' '.' '.' '.' '.' '.' '.' '#']\n",
            " ['#' '.' '.' '.' '.' '.' '.' '.' '.' '#']\n",
            " ['#' '.' '.' '.' '.' '.' '.' '.' '.' '#']\n",
            " ['#' '.' '.' '.' '.' '.' '.' '.' '.' '#']\n",
            " ['#' '.' '.' '.' '.' '.' '.' '.' '.' '#']\n",
            " ['#' '.' '.' '.' '.' '.' '.' '.' '.' '#']\n",
            " ['#' '.' '.' '.' '.' '.' '.' '.' '@' '#']\n",
            " ['#' '#' '#' '#' '#' '#' '#' '#' '#' '#']]\n"
          ]
        }
      ]
    },
    {
      "cell_type": "code",
      "source": [
        "\"\""
      ],
      "metadata": {
        "id": "OwSgimmVxFIw"
      },
      "execution_count": null,
      "outputs": []
    }
  ]
}